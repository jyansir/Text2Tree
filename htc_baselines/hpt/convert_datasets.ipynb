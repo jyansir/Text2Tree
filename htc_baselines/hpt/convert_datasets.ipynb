{
 "cells": [
  {
   "cell_type": "code",
   "execution_count": 1,
   "metadata": {},
   "outputs": [
    {
     "name": "stderr",
     "output_type": "stream",
     "text": [
      "/data2/yanjiahuan/.conda/envs/torch190/lib/python3.8/site-packages/tqdm/auto.py:22: TqdmWarning: IProgress not found. Please update jupyter and ipywidgets. See https://ipywidgets.readthedocs.io/en/stable/user_install.html\n",
      "  from .autonotebook import tqdm as notebook_tqdm\n"
     ]
    }
   ],
   "source": [
    "from dataclasses import dataclass\n",
    "import sys\n",
    "sys.path.append('/data2/yanjiahuan/research/testProject202301_underGoing')\n",
    "from data_utils import init_data_handler"
   ]
  },
  {
   "cell_type": "code",
   "execution_count": 2,
   "metadata": {},
   "outputs": [
    {
     "name": "stdout",
     "output_type": "stream",
     "text": [
      "Loading dataset: PUBMED_MULTILABEL\n",
      "using cache in: /data2/yanjiahuan/research/testProject202301_underGoing/data/pubmed_multilabel\n"
     ]
    }
   ],
   "source": [
    "@dataclass\n",
    "class DataArgs:\n",
    "    dataset: str\n",
    "data_args = DataArgs('pubmed_multilabel')\n",
    "Xs, id2label = init_data_handler(None, data_args,return_raw=True)"
   ]
  },
  {
   "cell_type": "code",
   "execution_count": 19,
   "metadata": {},
   "outputs": [
    {
     "data": {
      "text/plain": [
       "(10000, 100)"
      ]
     },
     "execution_count": 19,
     "metadata": {},
     "output_type": "execute_result"
    }
   ],
   "source": [
    "Xs['test']['labels'].shape"
   ]
  },
  {
   "cell_type": "code",
   "execution_count": 7,
   "metadata": {},
   "outputs": [],
   "source": [
    "parent_labels = sorted(list(set([v.split('.')[0] for v in id2label.values()])))\n",
    "child_labels = list(id2label.values())"
   ]
  },
  {
   "cell_type": "code",
   "execution_count": 8,
   "metadata": {},
   "outputs": [],
   "source": [
    "valuedict = {i: v for i, v in enumerate(parent_labels + child_labels)}\n",
    "v2i = {v:k for k,v in valuedict.items()}"
   ]
  },
  {
   "cell_type": "code",
   "execution_count": 9,
   "metadata": {},
   "outputs": [],
   "source": [
    "import json\n",
    "with open('/data2/yanjiahuan/research/testProject202301_underGoing/data/mimic3-top50/all_label2text.json', 'r') as f:\n",
    "    label2text = json.load(f)"
   ]
  },
  {
   "cell_type": "code",
   "execution_count": 10,
   "metadata": {},
   "outputs": [],
   "source": [
    "new_valuedict = {i: label2text[v] for i, v in valuedict.items()}\n",
    "# new_valuedict = valuedict"
   ]
  },
  {
   "cell_type": "code",
   "execution_count": 15,
   "metadata": {},
   "outputs": [
    {
     "data": {
      "text/plain": [
       "{0: 'Musculoskeletal System',\n",
       " 1: 'Cardiovascular System',\n",
       " 2: 'Nervous System',\n",
       " 3: 'Cells',\n",
       " 4: 'Hemic and Immune Systems',\n",
       " 5: 'Eukaryota',\n",
       " 6: 'Bacteria',\n",
       " 7: 'Infections',\n",
       " 8: 'Neoplasms',\n",
       " 9: 'Digestive System Diseases',\n",
       " 10: 'Respiratory Tract Diseases',\n",
       " 11: 'Nervous System Diseases',\n",
       " 12: 'Female Genital Diseases and Pregnancy Complications',\n",
       " 13: 'Cardiovascular Diseases',\n",
       " 14: 'Skin and Connective Tissue Diseases',\n",
       " 15: 'Nutritional and Metabolic Diseases',\n",
       " 16: 'Pathological Conditions, Signs and Symptoms',\n",
       " 17: 'Inorganic Chemicals',\n",
       " 18: 'Organic Chemicals',\n",
       " 19: 'Heterocyclic Compounds',\n",
       " 20: 'Polycyclic Compounds',\n",
       " 21: 'Macromolecular Substances',\n",
       " 22: 'Hormones, Hormone Substitutes, and Hormone Antagonists',\n",
       " 23: 'Enzymes and Coenzymes',\n",
       " 24: 'Amino Acids, Peptides, and Proteins',\n",
       " 25: 'Nucleic Acids, Nucleotides, and Nucleosides',\n",
       " 26: 'Biological Factors',\n",
       " 27: 'Chemical Actions and Uses',\n",
       " 28: 'Diagnosis',\n",
       " 29: 'Therapeutics',\n",
       " 30: 'Investigative Techniques',\n",
       " 31: 'Behavior and Behavior Mechanisms',\n",
       " 32: 'Psychological Phenomena',\n",
       " 33: 'Physical Phenomena',\n",
       " 34: 'Chemical Phenomena',\n",
       " 35: 'Genetic Phenomena',\n",
       " 36: 'Physiological Phenomena',\n",
       " 37: 'Reproductive and Urinary Physiological Phenomena',\n",
       " 38: 'Circulatory and Respiratory Physiological Phenomena',\n",
       " 39: 'Musculoskeletal and Neural Physiological Phenomena',\n",
       " 40: 'Biological Phenomena',\n",
       " 41: 'Natural Science Disciplines',\n",
       " 42: 'Social Science',\n",
       " 43: 'Technology, Industry, and Agriculture',\n",
       " 44: 'Information Science',\n",
       " 45: 'Persons',\n",
       " 46: 'Population Characteristics',\n",
       " 47: 'Health Care Facilities, Manpower, and Services',\n",
       " 48: 'Health Services Administration',\n",
       " 49: 'Health Care Quality, Access, and Evaluation',\n",
       " 50: 'Environment and Public Health',\n",
       " 51: 'Geographic Locations',\n",
       " 52: 'Skeleton',\n",
       " 53: 'Blood Vessels',\n",
       " 54: 'Central Nervous System',\n",
       " 55: 'Blood Cells',\n",
       " 56: 'Cells, Cultured',\n",
       " 57: 'Cellular Structures',\n",
       " 58: 'Epithelial Cells',\n",
       " 59: 'Blood',\n",
       " 60: 'Immune System',\n",
       " 61: 'Animals',\n",
       " 62: 'Plants',\n",
       " 63: 'Gram-Negative Bacteria',\n",
       " 64: 'Proteobacteria',\n",
       " 65: 'Bacterial Infections and Mycoses',\n",
       " 66: 'Virus Diseases',\n",
       " 67: 'Neoplasms by Histologic Type',\n",
       " 68: 'Neoplasms by Site',\n",
       " 69: 'Gastrointestinal Diseases',\n",
       " 70: 'Lung Diseases',\n",
       " 71: 'Central Nervous System Diseases',\n",
       " 72: 'Female Urogenital Diseases',\n",
       " 73: 'Heart Diseases',\n",
       " 74: 'Vascular Diseases',\n",
       " 75: 'Skin Diseases',\n",
       " 76: 'Metabolic Diseases',\n",
       " 77: 'Pathologic Processes',\n",
       " 78: 'Signs and Symptoms',\n",
       " 79: 'Electrolytes',\n",
       " 80: 'Elements',\n",
       " 81: 'Metals',\n",
       " 82: 'Oxygen Compounds',\n",
       " 83: 'Amines',\n",
       " 84: 'Carboxylic Acids',\n",
       " 85: 'Hydrocarbons',\n",
       " 86: 'Sulfur Compounds',\n",
       " 87: 'Heterocyclic Compounds, 1-Ring',\n",
       " 88: 'Heterocyclic Compounds, Fused-Ring',\n",
       " 89: 'Fused-Ring Compounds',\n",
       " 90: 'Polymers',\n",
       " 91: 'Hormones',\n",
       " 92: 'Enzymes',\n",
       " 93: 'Amino Acids',\n",
       " 94: 'Peptides',\n",
       " 95: 'Proteins',\n",
       " 96: 'Nucleic Acids',\n",
       " 97: 'Antigens',\n",
       " 98: 'Biomarkers',\n",
       " 99: 'Intercellular Signaling Peptides and Proteins',\n",
       " 100: 'Pharmacologic Actions',\n",
       " 101: 'Specialty Uses of Chemicals',\n",
       " 102: 'Diagnostic Techniques and Procedures',\n",
       " 103: 'Prognosis',\n",
       " 104: 'Drug Therapy',\n",
       " 105: 'Patient Care',\n",
       " 106: 'Chemistry Techniques, Analytical',\n",
       " 107: 'Clinical Laboratory Techniques',\n",
       " 108: 'Cytological Techniques',\n",
       " 109: 'Epidemiologic Methods',\n",
       " 110: 'Evaluation Studies as Topic',\n",
       " 111: 'Genetic Techniques',\n",
       " 112: 'Immunologic Techniques',\n",
       " 113: 'Manometry',\n",
       " 114: 'Molecular Probe Techniques',\n",
       " 115: 'Behavior',\n",
       " 116: 'Psychology, Social',\n",
       " 117: 'Mental Processes',\n",
       " 118: 'Psychophysiology',\n",
       " 119: 'Mechanical Phenomena',\n",
       " 120: 'Time',\n",
       " 121: 'Biochemical Phenomena',\n",
       " 122: 'Gene Expression Regulation',\n",
       " 123: 'Genetic Structures',\n",
       " 124: 'Genetic Variation',\n",
       " 125: 'Body Constitution',\n",
       " 126: 'Diet, Food, and Nutrition',\n",
       " 127: 'Growth and Development',\n",
       " 128: 'Pharmacological and Toxicological Phenomena',\n",
       " 129: 'Reproductive Physiological Phenomena',\n",
       " 130: 'Cardiovascular Physiological Phenomena',\n",
       " 131: 'Musculoskeletal Physiological Phenomena',\n",
       " 132: 'Nervous System Physiological Phenomena',\n",
       " 133: 'Ecological and Environmental Phenomena',\n",
       " 134: 'Biological Science Disciplines',\n",
       " 135: 'Chemistry',\n",
       " 136: 'Sociology',\n",
       " 137: 'Manufactured Materials',\n",
       " 138: 'Computing Methodologies',\n",
       " 139: 'Information Services',\n",
       " 140: 'Age Groups',\n",
       " 141: 'Demography',\n",
       " 142: 'Health Services',\n",
       " 143: 'Organization and Administration',\n",
       " 144: 'Quality of Health Care',\n",
       " 145: 'Delivery of Health Care',\n",
       " 146: 'Quality of Health Care',\n",
       " 147: 'Environment',\n",
       " 148: 'Public Health',\n",
       " 149: 'Americas',\n",
       " 150: 'Asia',\n",
       " 151: 'Europe'}"
      ]
     },
     "execution_count": 15,
     "metadata": {},
     "output_type": "execute_result"
    }
   ],
   "source": [
    "new_valuedict"
   ]
  },
  {
   "cell_type": "code",
   "execution_count": 27,
   "metadata": {},
   "outputs": [],
   "source": [
    "import torch\n",
    "torch.save(new_valuedict, \"./data/pubmed_multilabel2/value_dict.pt\")"
   ]
  },
  {
   "cell_type": "code",
   "execution_count": 28,
   "metadata": {},
   "outputs": [],
   "source": [
    "slot2value = {}\n",
    "for v, i in v2i.items():\n",
    "    if '.' not in v and i not in slot2value:\n",
    "        slot2value[i] = set()\n",
    "    else:\n",
    "        parent = v.split('.')[0]\n",
    "        parent_i = v2i[parent]\n",
    "        if parent_i not in slot2value:\n",
    "            slot2value[parent_i] = set()\n",
    "        slot2value[parent_i].add(i)"
   ]
  },
  {
   "cell_type": "code",
   "execution_count": 29,
   "metadata": {},
   "outputs": [],
   "source": [
    "from collections import defaultdict\n",
    "slot2value = defaultdict(set, slot2value)"
   ]
  },
  {
   "cell_type": "code",
   "execution_count": 30,
   "metadata": {},
   "outputs": [],
   "source": [
    "torch.save(slot2value, \"./data/pubmed_multilabel2/slot.pt\")"
   ]
  },
  {
   "cell_type": "code",
   "execution_count": 31,
   "metadata": {},
   "outputs": [],
   "source": [
    "value2id = {v: k for k, v in valuedict.items()}"
   ]
  },
  {
   "cell_type": "code",
   "execution_count": null,
   "metadata": {},
   "outputs": [],
   "source": [
    "value2id"
   ]
  },
  {
   "cell_type": "code",
   "execution_count": 33,
   "metadata": {},
   "outputs": [
    {
     "name": "stderr",
     "output_type": "stream",
     "text": [
      "train: 32000it [00:00, 79229.61it/s]\n"
     ]
    },
    {
     "name": "stdout",
     "output_type": "stream",
     "text": [
      "writing dataset:  pubmed_multilabel2   train\n",
      "done\n"
     ]
    },
    {
     "name": "stderr",
     "output_type": "stream",
     "text": [
      "dev: 8000it [00:00, 122324.82it/s]"
     ]
    },
    {
     "name": "stdout",
     "output_type": "stream",
     "text": [
      "writing dataset:  pubmed_multilabel2   dev\n"
     ]
    },
    {
     "name": "stderr",
     "output_type": "stream",
     "text": [
      "\n"
     ]
    },
    {
     "name": "stdout",
     "output_type": "stream",
     "text": [
      "done\n"
     ]
    },
    {
     "name": "stderr",
     "output_type": "stream",
     "text": [
      "test: 10000it [00:00, 124685.75it/s]"
     ]
    },
    {
     "name": "stdout",
     "output_type": "stream",
     "text": [
      "writing dataset:  pubmed_multilabel2   test\n"
     ]
    },
    {
     "name": "stderr",
     "output_type": "stream",
     "text": [
      "\n"
     ]
    },
    {
     "name": "stdout",
     "output_type": "stream",
     "text": [
      "done\n"
     ]
    }
   ],
   "source": [
    "from tqdm import tqdm\n",
    "import numpy as np\n",
    "\n",
    "def build_htc_label(label):\n",
    "    label_ids = []\n",
    "    if isinstance(label, np.ndarray):\n",
    "        label_ids = np.where(label == 1)[0].tolist()\n",
    "    elif isinstance(label, np.integer):\n",
    "        label_ids = [label]\n",
    "    htc_labels = []\n",
    "    label_names = []\n",
    "    for i in label_ids:\n",
    "        v = id2label[i]\n",
    "        label_names.append(v)\n",
    "        p = v.split('.')[0]\n",
    "        if p not in htc_labels:\n",
    "            htc_labels.append(p)\n",
    "    htc_labels += label_names\n",
    "    htc_ids = [value2id[v] for v in htc_labels]\n",
    "    return htc_ids\n",
    "\n",
    "def write_data(Xs, spl, dataset):\n",
    "    print(\"writing dataset: \", dataset, \" \", spl)\n",
    "    with open(f'./data/{dataset}/{dataset}_{spl}.json', 'w') as f:\n",
    "        lines = [json.dumps(X, ensure_ascii=False) + \"\\n\" for X in Xs]\n",
    "        f.writelines(lines)\n",
    "    print('done')\n",
    "\n",
    "for spl in Xs:\n",
    "    new_Xs = []\n",
    "    texts, labels = Xs[spl]['texts'], Xs[spl]['labels']\n",
    "    for text, label in tqdm(zip(texts, labels), desc=spl):\n",
    "        new_X = {\n",
    "            \"token\": text,\n",
    "            \"label\": build_htc_label(label)}\n",
    "        new_Xs.append(new_X)\n",
    "    write_data(new_Xs, spl, 'pubmed_multilabel2')"
   ]
  },
  {
   "cell_type": "code",
   "execution_count": 137,
   "metadata": {},
   "outputs": [],
   "source": [
    "import torch\n",
    "slot2value = torch.load('/data2/yanjiahuan/research/testProject202301_underGoing/baselines/HPT/data/dermatology/slot.pt')\n",
    "valuedict = torch.load('/data2/yanjiahuan/research/testProject202301_underGoing/baselines/HPT/data/dermatology/value_dict.pt')"
   ]
  },
  {
   "cell_type": "code",
   "execution_count": 138,
   "metadata": {},
   "outputs": [
    {
     "data": {
      "text/plain": [
       "defaultdict(set,\n",
       "            {0: {41, 42},\n",
       "             1: {43},\n",
       "             2: {44},\n",
       "             3: {45, 46, 47, 48},\n",
       "             4: {49},\n",
       "             5: {50},\n",
       "             6: {51, 52, 53, 54},\n",
       "             7: {55},\n",
       "             8: {56},\n",
       "             9: {57},\n",
       "             10: {58},\n",
       "             11: {59},\n",
       "             12: {60},\n",
       "             13: {61},\n",
       "             14: {62, 63},\n",
       "             15: {64},\n",
       "             16: {65},\n",
       "             17: {66},\n",
       "             18: {67, 68},\n",
       "             19: {69},\n",
       "             20: {70, 71, 72, 73, 74},\n",
       "             21: {75, 76},\n",
       "             22: {77},\n",
       "             23: {78, 79, 80},\n",
       "             24: {81},\n",
       "             25: {82},\n",
       "             26: {83},\n",
       "             27: {84},\n",
       "             28: {85},\n",
       "             29: {86},\n",
       "             30: {87},\n",
       "             31: {88},\n",
       "             32: {89},\n",
       "             33: {90},\n",
       "             34: {91},\n",
       "             35: {92},\n",
       "             36: {93},\n",
       "             37: {94},\n",
       "             38: {95},\n",
       "             39: {96},\n",
       "             40: {97, 98, 99}})"
      ]
     },
     "execution_count": 138,
     "metadata": {},
     "output_type": "execute_result"
    }
   ],
   "source": [
    "slot2value"
   ]
  },
  {
   "cell_type": "code",
   "execution_count": 27,
   "metadata": {},
   "outputs": [
    {
     "data": {
      "text/plain": [
       "defaultdict(set,\n",
       "            {0: {7,\n",
       "              12,\n",
       "              23,\n",
       "              28,\n",
       "              37,\n",
       "              41,\n",
       "              46,\n",
       "              49,\n",
       "              50,\n",
       "              57,\n",
       "              91,\n",
       "              99,\n",
       "              101,\n",
       "              110,\n",
       "              111,\n",
       "              125,\n",
       "              140},\n",
       "             1: {8,\n",
       "              11,\n",
       "              16,\n",
       "              19,\n",
       "              21,\n",
       "              22,\n",
       "              27,\n",
       "              35,\n",
       "              36,\n",
       "              38,\n",
       "              39,\n",
       "              40,\n",
       "              43,\n",
       "              44,\n",
       "              47,\n",
       "              52,\n",
       "              53,\n",
       "              54,\n",
       "              63,\n",
       "              65,\n",
       "              68,\n",
       "              69,\n",
       "              70,\n",
       "              72,\n",
       "              73,\n",
       "              74,\n",
       "              75,\n",
       "              76,\n",
       "              78,\n",
       "              80,\n",
       "              85,\n",
       "              89,\n",
       "              106,\n",
       "              107,\n",
       "              108,\n",
       "              109,\n",
       "              112,\n",
       "              114,\n",
       "              115,\n",
       "              116,\n",
       "              117,\n",
       "              121,\n",
       "              124,\n",
       "              126,\n",
       "              127,\n",
       "              128,\n",
       "              129,\n",
       "              131,\n",
       "              132,\n",
       "              134,\n",
       "              135,\n",
       "              138,\n",
       "              139},\n",
       "             2: {9, 33, 45, 51, 56, 66, 71, 82, 83, 118, 120},\n",
       "             3: {10,\n",
       "              24,\n",
       "              29,\n",
       "              55,\n",
       "              58,\n",
       "              59,\n",
       "              60,\n",
       "              62,\n",
       "              79,\n",
       "              84,\n",
       "              90,\n",
       "              95,\n",
       "              98,\n",
       "              102,\n",
       "              103,\n",
       "              113},\n",
       "             4: {13, 17, 18, 20, 25, 26, 31, 32, 42},\n",
       "             5: {14, 34, 48, 61, 67, 77, 81, 92, 94},\n",
       "             6: {15,\n",
       "              30,\n",
       "              64,\n",
       "              86,\n",
       "              87,\n",
       "              88,\n",
       "              93,\n",
       "              96,\n",
       "              97,\n",
       "              100,\n",
       "              104,\n",
       "              105,\n",
       "              119,\n",
       "              122,\n",
       "              123,\n",
       "              130,\n",
       "              133,\n",
       "              136,\n",
       "              137}})"
      ]
     },
     "execution_count": 27,
     "metadata": {},
     "output_type": "execute_result"
    }
   ],
   "source": [
    "torch.load('/data2/yanjiahuan/research/testProject202301_underGoing/baselines/HPT/data/WebOfScience/slot.pt')"
   ]
  }
 ],
 "metadata": {
  "kernelspec": {
   "display_name": "Python 3.8.15 64-bit ('torch190': conda)",
   "metadata": {
    "interpreter": {
     "hash": "5d3937b61c08804cb77fba69be7922f376531217c713800d3c7276ee8c2cdd96"
    }
   },
   "name": "python3"
  },
  "language_info": {
   "codemirror_mode": {
    "name": "ipython",
    "version": 3
   },
   "file_extension": ".py",
   "mimetype": "text/x-python",
   "name": "python",
   "nbconvert_exporter": "python",
   "pygments_lexer": "ipython3",
   "version": "3.8.15"
  },
  "orig_nbformat": 2
 },
 "nbformat": 4,
 "nbformat_minor": 2
}
